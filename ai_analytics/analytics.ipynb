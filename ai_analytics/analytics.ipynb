{
 "cells": [
  {
   "cell_type": "markdown",
   "metadata": {},
   "source": [
    "# Analysis of Different Search Depths with Alpha Beta Pruning"
   ]
  },
  {
   "cell_type": "markdown",
   "metadata": {},
   "source": [
    "## Imports"
   ]
  },
  {
   "cell_type": "code",
   "execution_count": null,
   "metadata": {},
   "outputs": [],
   "source": [
    "import sys\n",
    "sys.path.append('..')\n",
    "from ninemensmorris import *\n",
    "from teststates import Test_States"
   ]
  },
  {
   "cell_type": "code",
   "execution_count": null,
   "metadata": {},
   "outputs": [],
   "source": [
    "import pandas as pd\n",
    "import time\n",
    "from datetime import date, datetime"
   ]
  },
  {
   "cell_type": "markdown",
   "metadata": {},
   "source": [
    "## Collecting Data"
   ]
  },
  {
   "cell_type": "markdown",
   "metadata": {},
   "source": [
    "### Using get_best_moves to get Data"
   ]
  },
  {
   "cell_type": "markdown",
   "metadata": {},
   "source": [
    "#### Define Max Depth"
   ]
  },
  {
   "cell_type": "code",
   "execution_count": null,
   "metadata": {},
   "outputs": [],
   "source": [
    "max_depth = 6"
   ]
  },
  {
   "cell_type": "markdown",
   "metadata": {},
   "source": [
    "#### Running Loop"
   ]
  },
  {
   "cell_type": "code",
   "execution_count": null,
   "metadata": {},
   "outputs": [],
   "source": [
    "columns = ['test_state_no', 'depth', 'move', 'duration']\n",
    "df = pd.DataFrame(columns=columns)\n",
    "\n",
    "test_states = Test_States()\n",
    "amount_test_states = len(test_states)\n",
    "nmm = NineMensMorris(difficulty='hard')\n",
    "\n",
    "for test_state_no in range(0,amount_test_states):\n",
    "    print(f\"Now Calculating Best Moves for Test-State: {test_state_no}/{amount_test_states}\")\n",
    "    for depth in range(1,max_depth+1):\n",
    "        print(f\"    Searching for Move with Depth: {depth}\")\n",
    "        start_time = time.time()\n",
    "        best_move = nmm.get_best_move(state=test_states[test_state_no], player='b',depth=depth, dynamic_depth=False)\n",
    "        end_time = time.time()\n",
    "        total_time = end_time - start_time\n",
    "        print(f\"    Finished Searching for Move with Depth: {depth}, after {total_time}s and found Move: {best_move}\")\n",
    "        df.loc[len(df)] = [test_state_no, depth, best_move, total_time]\n",
    "print(f\"\\nFinished Search for Max-Depth: {max_depth}\")"
   ]
  },
  {
   "cell_type": "markdown",
   "metadata": {},
   "source": [
    "#### Saving Dataframe as CSV"
   ]
  },
  {
   "cell_type": "code",
   "execution_count": null,
   "metadata": {},
   "outputs": [],
   "source": [
    "date_string = date.today().isoformat()\n",
    "time_string = datetime.now().strftime('%H-%M-%S')\n",
    "file_name = f\"data/D_{max_depth}_{date_string}_{time_string}.csv\"\n",
    "df.to_csv(file_name, index=False)"
   ]
  },
  {
   "cell_type": "markdown",
   "metadata": {},
   "source": [
    "## Testing Dynamic Depth"
   ]
  },
  {
   "cell_type": "code",
   "execution_count": null,
   "metadata": {},
   "outputs": [],
   "source": [
    "test_states = Test_States()\n",
    "amount_test_states = len(test_states)\n",
    "nmm = NineMensMorris(difficulty='hard')\n",
    "\n",
    "for test_state_no in range(0,amount_test_states):\n",
    "    start_time = time.time()\n",
    "    best_move = nmm.get_best_move(state=test_states[test_state_no], player='b', dynamic_depth=True)\n",
    "    end_time = time.time()\n",
    "    total_time = end_time-start_time\n",
    "    print(f\"Finished Search for {test_state_no} in {total_time} with Move: {best_move}\")"
   ]
  }
 ],
 "metadata": {
  "kernelspec": {
   "display_name": "Python 3",
   "language": "python",
   "name": "python3"
  },
  "language_info": {
   "codemirror_mode": {
    "name": "ipython",
    "version": 3
   },
   "file_extension": ".py",
   "mimetype": "text/x-python",
   "name": "python",
   "nbconvert_exporter": "python",
   "pygments_lexer": "ipython3",
   "version": "3.11.5"
  }
 },
 "nbformat": 4,
 "nbformat_minor": 2
}
