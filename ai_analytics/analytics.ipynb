{
 "cells": [
  {
   "cell_type": "markdown",
   "metadata": {},
   "source": [
    "# Analysis of Different Search Depths with Alpha Beta Pruning"
   ]
  },
  {
   "cell_type": "markdown",
   "metadata": {},
   "source": [
    "## Imports"
   ]
  },
  {
   "cell_type": "code",
   "execution_count": null,
   "metadata": {
    "metadata": {}
   },
   "outputs": [],
   "source": [
    "import sys\n",
    "sys.path.append('..')\n",
    "from ninemensmorris import *\n",
    "from teststates import Test_States"
   ]
  },
  {
   "cell_type": "code",
   "execution_count": null,
   "metadata": {
    "metadata": {}
   },
   "outputs": [],
   "source": [
    "import pandas as pd\n",
    "import time\n",
    "from datetime import date, datetime"
   ]
  },
  {
   "cell_type": "markdown",
   "metadata": {},
   "source": [
    "## Collecting Data"
   ]
  },
  {
   "cell_type": "markdown",
   "metadata": {},
   "source": [
    "### Using get_best_moves to get Data"
   ]
  },
  {
   "cell_type": "markdown",
   "metadata": {},
   "source": [
    "#### Define Max Depth"
   ]
  },
  {
   "cell_type": "code",
   "execution_count": null,
   "metadata": {},
   "outputs": [],
   "source": [
    "max_depth = 6"
   ]
  },
  {
   "cell_type": "markdown",
   "metadata": {},
   "source": [
    "#### Running Loop"
   ]
  },
  {
   "cell_type": "code",
   "execution_count": null,
   "metadata": {},
   "outputs": [],
   "source": [
    "columns = ['test_state_no', 'depth', 'move', 'duration']\n",
    "df = pd.DataFrame(columns=columns)\n",
    "\n",
    "test_states = Test_States()\n",
    "amount_test_states = len(test_states)\n",
    "nmm = NineMensMorris(difficulty='hard')\n",
    "\n",
    "for test_state_no in range(0,amount_test_states):\n",
    "    print(f\"Now Calculating Best Moves for Test-State: {test_state_no}/{amount_test_states}\")\n",
    "    for depth in range(1,max_depth+1):\n",
    "        print(f\"    Searching for Move with Depth: {depth}\")\n",
    "        start_time = time.time()\n",
    "        best_move = nmm.get_best_move(state=test_states[test_state_no], player='b',depth=depth, dynamic_depth=False)\n",
    "        end_time = time.time()\n",
    "        total_time = end_time - start_time\n",
    "        print(f\"    Finished Searching for Move with Depth: {depth}, after {total_time}s and found Move: {best_move}\")\n",
    "        df.loc[len(df)] = [test_state_no, depth, best_move, total_time]\n",
    "print(f\"\\nFinished Search for Max-Depth: {max_depth}\")"
   ]
  },
  {
   "cell_type": "markdown",
   "metadata": {},
   "source": [
    "#### Saving Dataframe as CSV"
   ]
  },
  {
   "cell_type": "code",
   "execution_count": null,
   "metadata": {},
   "outputs": [],
   "source": [
    "date_string = date.today().isoformat()\n",
    "time_string = datetime.now().strftime('%H-%M-%S')\n",
    "file_name = f\"data/D_{max_depth}_{date_string}_{time_string}.csv\"\n",
    "df.to_csv(file_name, index=False)"
   ]
  },
  {
   "cell_type": "markdown",
   "metadata": {},
   "source": [
    "## Testing Dynamic Depth"
   ]
  },
  {
   "cell_type": "code",
   "execution_count": null,
   "metadata": {
    "metadata": {}
   },
   "outputs": [],
   "source": [
    "test_states = Test_States()\n",
    "amount_test_states = len(test_states)\n",
    "nmm = NineMensMorris(difficulty='hard')\n",
    "\n",
    "for test_state_no in range(0,amount_test_states):\n",
    "    start_time = time.time()\n",
    "    best_move = nmm.get_best_move(state=test_states[test_state_no], player='b', dynamic_depth=True)\n",
    "    end_time = time.time()\n",
    "    total_time = end_time-start_time\n",
    "    print(f\"Finished Search for {test_state_no} in {total_time} with Move: {best_move}\")"
   ]
  },
  {
   "cell_type": "markdown",
   "metadata": {},
   "source": [
    "### For Presentation"
   ]
  },
  {
   "cell_type": "code",
   "execution_count": null,
   "metadata": {
    "metadata": {}
   },
   "outputs": [],
   "source": [
    "state_1 = GameState(\n",
    "            board={'A1': 'b', 'D1': 'b', 'G1': 'b', 'B2': 'w', 'D2': 'w', 'F2': 'e', 'C3': 'w', 'D3': 'e', 'E3': 'w', 'A4': 'w', 'B4': 'e', 'C4': 'e', 'E4': 'e', 'F4': 'b', 'G4': 'w', 'C5': 'e', 'D5': 'w', 'E5': 'b', 'B6': 'w', 'D6': 'b', 'F6': 'w', 'A7': 'e', 'D7': 'e', 'G7': 'e'},\n",
    "            to_move='b',\n",
    "            move_type='move',\n",
    "            pieces_b=0,\n",
    "            pieces_w=0)"
   ]
  },
  {
   "cell_type": "code",
   "execution_count": null,
   "metadata": {
    "metadata": {}
   },
   "outputs": [],
   "source": [
    "state_2 = GameState(\n",
    "            board={'A1': 'e', 'D1': 'w', 'G1': 'w', 'B2': 'w', 'D2': 'b', 'F2': 'w', 'C3': 'e', 'D3': 'e', 'E3': 'e', 'A4': 'w', 'B4': 'w', 'C4': 'e', 'E4': 'e', 'F4': 'w', 'G4': 'w', 'C5': 'w', 'D5': 'e', 'E5': 'b', 'B6': 'e', 'D6': 'b', 'F6': 'e', 'A7': 'e', 'D7': 'e', 'G7': 'e'},\n",
    "            to_move='b',\n",
    "            move_type='jump',\n",
    "            pieces_b=0,\n",
    "            pieces_w=0)"
   ]
  },
  {
   "cell_type": "code",
   "execution_count": null,
   "metadata": {
    "metadata": {}
   },
   "outputs": [],
   "source": [
    "nmm = NineMensMorris(difficulty='hard')\n",
    "for depth in range(1,8):\n",
    "    start_time = time.time()\n",
    "    nmm.get_best_move(state=state_1, player='b',depth=depth, dynamic_depth=False)\n",
    "    print(f\"State: 1, Depth {depth}, Time: {time.time()-start_time}\")\n",
    "    nmm.get_best_move(state=state_2, player='b',depth=depth, dynamic_depth=False)\n",
    "    print(f\"State: 2, Depth {depth}, Time: {time.time()-start_time}\")"
   ]
  }
 ],
 "metadata": {
  "kernelspec": {
   "display_name": "Python 3",
   "language": "python",
   "name": "python3"
  },
  "language_info": {
   "codemirror_mode": {
    "name": "ipython",
    "version": 3
   },
   "file_extension": ".py",
   "mimetype": "text/x-python",
   "name": "python",
   "nbconvert_exporter": "python",
   "pygments_lexer": "ipython3",
   "version": "3.11.5"
  }
 },
 "nbformat": 4,
 "nbformat_minor": 2
}
